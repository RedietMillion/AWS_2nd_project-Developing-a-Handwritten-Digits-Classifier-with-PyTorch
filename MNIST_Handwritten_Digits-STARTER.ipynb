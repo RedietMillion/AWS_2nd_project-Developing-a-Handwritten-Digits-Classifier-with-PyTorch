{
 "cells": [
  {
   "cell_type": "markdown",
   "metadata": {},
   "source": [
    "# Introduction\n",
    "\n",
    "In this project, you will build a neural network of your own design to evaluate the MNIST dataset.\n",
    "\n",
    "Some of the benchmark results on MNIST include can be found [on Yann LeCun's page](http://yann.lecun.com/exdb/mnist/) and include:\n",
    "\n",
    "88% [Lecun et al., 1998](http://yann.lecun.com/exdb/publis/pdf/lecun-98.pdf)\n",
    "95.3% [Lecun et al., 1998](http://yann.lecun.com/exdb/publis/pdf/lecun-98.pdf)\n",
    "99.65% [Ciresan et al., 2011](http://people.idsia.ch/~juergen/ijcai2011.pdf)\n",
    "\n",
    "MNIST is a great dataset for sanity checking your models, since the accuracy levels achieved by large convolutional neural networks and small linear models are both quite high. This makes it important to be familiar with the data.\n",
    "\n",
    "## Imports"
   ]
  },
  {
   "cell_type": "code",
   "execution_count": 2,
   "metadata": {},
   "outputs": [],
   "source": [
    "## This cell contains the essential imports you will need – DO NOT CHANGE THE CONTENTS! ##\n",
    "import torch\n",
    "import torch.nn as nn\n",
    "import torch.nn.functional as F\n",
    "import torch.optim as optim\n",
    "import torchvision\n",
    "import torchvision.transforms as transforms\n",
    "import matplotlib.pyplot as plt\n",
    "import numpy as np"
   ]
  },
  {
   "cell_type": "code",
   "execution_count": 2,
   "metadata": {},
   "outputs": [],
   "source": [
    "#!pip install ipywidgets\n",
    "#!jupyter nbextension enable --py widgetsnbextension"
   ]
  },
  {
   "cell_type": "markdown",
   "metadata": {},
   "source": [
    "## Load the Dataset\n",
    "\n",
    "Specify your transforms as a list if you intend to .\n",
    "The transforms module is already loaded as `transforms`.\n",
    "\n",
    "MNIST is fortunately included in the torchvision module.\n",
    "Then, you can create your dataset using the `MNIST` object from `torchvision.datasets` ([the documentation is available here](https://pytorch.org/vision/stable/datasets.html#mnist)).\n",
    "Make sure to specify `download=True`! \n",
    "\n",
    "Once your dataset is created, you'll also need to define a `DataLoader` from the `torch.utils.data` module for both the train and the test set."
   ]
  },
  {
   "cell_type": "code",
   "execution_count": 3,
   "metadata": {
    "scrolled": false
   },
   "outputs": [
    {
     "name": "stderr",
     "output_type": "stream",
     "text": [
      "/opt/conda/lib/python3.7/site-packages/torchvision/datasets/mnist.py:498: UserWarning: The given NumPy array is not writable, and PyTorch does not support non-writable tensors. This means writing to this tensor will result in undefined behavior. You may want to copy the array to protect its data or make it writable before converting it to a tensor. This type of warning will be suppressed for the rest of this program. (Triggered internally at  ../torch/csrc/utils/tensor_numpy.cpp:178.)\n",
      "  return torch.from_numpy(parsed.astype(m[2], copy=False)).view(*s)\n"
     ]
    }
   ],
   "source": [
    "# Define transforms\n",
    "\n",
    "transform = transforms.Compose([transforms.ToTensor(), transforms.Normalize((0.5,),(0.5,))])\n",
    "\n",
    "# Create training set and define training dataloader\n",
    "train_data = torchvision.datasets.MNIST(root='./data', train=True, download=True, transform= transform)\n",
    "train_dataloader = torch.utils.data.DataLoader(train_data, batch_size = 64, shuffle = True)\n",
    "\n",
    "# Create test set and define test dataloader\n",
    "test_data = torchvision.datasets.MNIST(root='./data', train=False, download=True, transform= transform)\n",
    "test_dataloader = torch.utils.data.DataLoader(test_data, batch_size = 64, shuffle = False)"
   ]
  },
  {
   "cell_type": "markdown",
   "metadata": {},
   "source": [
    "## Justify your preprocessing\n",
    "\n",
    "In your own words, why did you choose the transforms you chose? If you didn't use any preprocessing steps, why not?"
   ]
  },
  {
   "cell_type": "markdown",
   "metadata": {},
   "source": [
    "I have applied two transformation, `ToTensor()`and `Normalization` to the orginal dataset because of the following reasons:\n",
    "- ToTensor() will help us to convert PIL (Python Image Library) format to PyTorch tensor format, this will allow us to easily manipulate the images as tensors and feed them into a neural network for the next training or inference phase.\n",
    "- The `normalization` can help us to normalize the data with the mean and standard deviation of the MNIST dataset, this can help us training neural networks more effectively and efficiently. "
   ]
  },
  {
   "cell_type": "markdown",
   "metadata": {},
   "source": [
    "## Explore the Dataset\n",
    "Using matplotlib, numpy, and torch, explore the dimensions of your data.\n",
    "\n",
    "You can view images using the `show5` function defined below – it takes a data loader as an argument.\n",
    "Remember that normalized images will look really weird to you! You may want to try changing your transforms to view images.\n",
    "Typically using no transforms other than `toTensor()` works well for viewing – but not as well for training your network.\n",
    "If `show5` doesn't work, go back and check your code for creating your data loaders and your training/test sets."
   ]
  },
  {
   "cell_type": "code",
   "execution_count": 4,
   "metadata": {},
   "outputs": [],
   "source": [
    "## This cell contains a function for showing 5 images from a dataloader – DO NOT CHANGE THE CONTENTS! ##\n",
    "def show5(img_loader):\n",
    "    dataiter = iter(img_loader)\n",
    "    \n",
    "    batch = next(dataiter)\n",
    "    labels = batch[1][0:5]\n",
    "    images = batch[0][0:5]\n",
    "    for i in range(5):\n",
    "        print(int(labels[i].detach()))\n",
    "    \n",
    "        image = images[i].numpy()\n",
    "        plt.imshow(image.T.squeeze().T)\n",
    "        plt.show()"
   ]
  },
  {
   "cell_type": "code",
   "execution_count": 5,
   "metadata": {},
   "outputs": [
    {
     "name": "stdout",
     "output_type": "stream",
     "text": [
      "Train dataset without normalization\n",
      "6\n"
     ]
    },
    {
     "data": {
      "image/png": "[encoded data removed]",
      "text/plain": [
       "<Figure size 432x288 with 1 Axes>"
      ]
     },
     "metadata": {
      "needs_background": "light"
     },
     "output_type": "display_data"
    },
    {
     "name": "stdout",
     "output_type": "stream",
     "text": [
      "2\n"
     ]
    },
    {
     "data": {
      "image/png": "[encoded data removed]",
      "text/plain": [
       "<Figure size 432x288 with 1 Axes>"
      ]
     },
     "metadata": {
      "needs_background": "light"
     },
     "output_type": "display_data"
    },
    {
     "name": "stdout",
     "output_type": "stream",
     "text": [
      "3\n"
     ]
    },
    {
     "data": {
      "image/png": "[encoded data removed]",
      "text/plain": [
       "<Figure size 432x288 with 1 Axes>"
      ]
     },
     "metadata": {
      "needs_background": "light"
     },
     "output_type": "display_data"
    },
    {
     "name": "stdout",
     "output_type": "stream",
     "text": [
      "0\n"
     ]
    },
    {
     "data": {
      "image/png": "[encoded data removed]",
      "text/plain": [
       "<Figure size 432x288 with 1 Axes>"
      ]
     },
     "metadata": {
      "needs_background": "light"
     },
     "output_type": "display_data"
    },
    {
     "name": "stdout",
     "output_type": "stream",
     "text": [
      "0\n"
     ]
    },
    {
     "data": {
      "image/png": "[encoded data removed]",
      "text/plain": [
       "<Figure size 432x288 with 1 Axes>"
      ]
     },
     "metadata": {
      "needs_background": "light"
     },
     "output_type": "display_data"
    },
    {
     "name": "stdout",
     "output_type": "stream",
     "text": [
      "Train dataset with normalization\n",
      "1\n"
     ]
    },
    {
     "data": {
      "image/png": "[encoded data removed]",
      "text/plain": [
       "<Figure size 432x288 with 1 Axes>"
      ]
     },
     "metadata": {
      "needs_background": "light"
     },
     "output_type": "display_data"
    },
    {
     "name": "stdout",
     "output_type": "stream",
     "text": [
      "7\n"
     ]
    },
    {
     "data": {
      "image/png": "[encoded data removed]",
      "text/plain": [
       "<Figure size 432x288 with 1 Axes>"
      ]
     },
     "metadata": {
      "needs_background": "light"
     },
     "output_type": "display_data"
    },
    {
     "name": "stdout",
     "output_type": "stream",
     "text": [
      "2\n"
     ]
    },
    {
     "data": {
      "image/png": "[encoded data removed]",
      "text/plain": [
       "<Figure size 432x288 with 1 Axes>"
      ]
     },
     "metadata": {
      "needs_background": "light"
     },
     "output_type": "display_data"
    },
    {
     "name": "stdout",
     "output_type": "stream",
     "text": [
      "6\n"
     ]
    },
    {
     "data": {
      "image/png": "[encoded data removed]",
      "text/plain": [
       "<Figure size 432x288 with 1 Axes>"
      ]
     },
     "metadata": {
      "needs_background": "light"
     },
     "output_type": "display_data"
    },
    {
     "name": "stdout",
     "output_type": "stream",
     "text": [
      "4\n"
     ]
    },
    {
     "data": {
      "image/png": "[encoded data removed]",
      "text/plain": [
       "<Figure size 432x288 with 1 Axes>"
      ]
     },
     "metadata": {
      "needs_background": "light"
     },
     "output_type": "display_data"
    }
   ],
   "source": [
    "# Explore data\n",
    "# Visualizing the training dataset with and without normalization \n",
    "print(\"Train dataset without normalization\")\n",
    "transform2 = transforms.Compose([transforms.ToTensor()])\n",
    "# Create training set and define training dataloader\n",
    "train_data2 = torchvision.datasets.MNIST(root='./data', train=True, download=True, transform= transform2)\n",
    "train_dataloader2 = torch.utils.data.DataLoader(train_data, batch_size = 64, shuffle = True)\n",
    "show5(train_dataloader2)\n",
    "print(\"Train dataset with normalization\")\n",
    "show5(train_dataloader)"
   ]
  },
  {
   "cell_type": "code",
   "execution_count": 6,
   "metadata": {},
   "outputs": [
    {
     "name": "stdout",
     "output_type": "stream",
     "text": [
      "The size of the training image before normalization is applied torch.Size([1, 28, 28])\n",
      "The size of the image after normalization is  torch.Size([1, 28, 28])\n"
     ]
    }
   ],
   "source": [
    "# Explore the shape and size of the data before and after transformation \n",
    "#Before the normalization is applied \n",
    "#Get the first image \n",
    "image, label = next(iter(train_data2))\n",
    "# size of the image\n",
    "print(\"The size of the training image before normalization is applied\", image.size())\n",
    "#After normalization is applied\n",
    "image, label = next(iter(train_data))\n",
    "# size of the image\n",
    "print(\"The size of the image after normalization is \", image.size())"
   ]
  },
  {
   "cell_type": "markdown",
   "metadata": {},
   "source": [
    "## Build your Neural Network\n",
    "Using the layers in `torch.nn` (which has been imported as `nn`) and the `torch.nn.functional` module (imported as `F`), construct a neural network based on the parameters of the dataset.\n",
    "Use any architecture you like. \n",
    "\n",
    "*Note*: If you did not flatten your tensors in your transforms or as part of your preprocessing and you are using only `Linear` layers, make sure to use the `Flatten` layer in your network!"
   ]
  },
  {
   "cell_type": "code",
   "execution_count": 7,
   "metadata": {},
   "outputs": [],
   "source": [
    "## YOUR CODE HERE ##\n",
    "class NeuralNetwork(nn.Module):\n",
    "    def __init__(self):\n",
    "        super(NeuralNetwork, self).__init__()\n",
    "        self.flatten = nn.Flatten()\n",
    "        self.fc1 = nn.Linear(784, 256)\n",
    "        self.fc2 = nn.Linear(256, 10)\n",
    "        self.dropout = nn.Dropout(0.2)\n",
    "        self.activation = F.relu\n",
    "    #Define the feed forward neural network architecture \n",
    "    def forward(self, x):\n",
    "        x = self.flatten(x)\n",
    "        x = self.activation(self.fc1(x))\n",
    "        x = self.dropout(x)\n",
    "        x = self.fc2(x)\n",
    "        x = F.softmax(x, dim = 1)\n",
    "        return x\n",
    "\n",
    "# Define device usage \n",
    "device = torch.device(\"cuda\" if torch.cuda.is_available() else \"cpu\")\n",
    "# create instance of the new neural network model\n",
    "model = NeuralNetwork().to(device)\n"
   ]
  },
  {
   "cell_type": "markdown",
   "metadata": {},
   "source": [
    "Specify a loss function and an optimizer, and instantiate the model.\n",
    "\n",
    "If you use a less common loss function, please note why you chose that loss function in a comment."
   ]
  },
  {
   "cell_type": "code",
   "execution_count": 8,
   "metadata": {},
   "outputs": [],
   "source": [
    "## YOUR CODE HERE ##\n",
    "# Before training the model first we should define loss function and optmizer \n",
    "criterion = nn.CrossEntropyLoss()\n",
    "optimizer = optim.Adam(model.parameters(), lr = 0.001)"
   ]
  },
  {
   "cell_type": "markdown",
   "metadata": {},
   "source": [
    "## Running your Neural Network\n",
    "Use whatever method you like to train your neural network, and ensure you record the average loss at each epoch. \n",
    "Don't forget to use `torch.device()` and the `.to()` method for both your model and your data if you are using GPU!\n",
    "\n",
    "If you want to print your loss **during** each epoch, you can use the `enumerate` function and print the loss after a set number of batches. 250 batches works well for most people!"
   ]
  },
  {
   "cell_type": "code",
   "execution_count": 9,
   "metadata": {},
   "outputs": [
    {
     "name": "stdout",
     "output_type": "stream",
     "text": [
      "Epoch: 1 / 10, Batch: 250/938,Loss:1.78833, Accuracy:0.69606\n",
      "Epoch: 1 / 10, Batch: 500/938,Loss:1.64997, Accuracy:0.82206\n",
      "Epoch: 1 / 10, Batch: 750/938,Loss:1.61962, Accuracy:0.84925\n",
      "Epoch: 2 / 10, Batch: 250/938,Loss:1.55982, Accuracy:0.90763\n",
      "Epoch: 2 / 10, Batch: 500/938,Loss:1.55500, Accuracy:0.91100\n",
      "Epoch: 2 / 10, Batch: 750/938,Loss:1.54278, Accuracy:0.92338\n",
      "Epoch: 3 / 10, Batch: 250/938,Loss:1.53123, Accuracy:0.93475\n",
      "Epoch: 3 / 10, Batch: 500/938,Loss:1.52984, Accuracy:0.93519\n",
      "Epoch: 3 / 10, Batch: 750/938,Loss:1.52762, Accuracy:0.93744\n",
      "Epoch: 4 / 10, Batch: 250/938,Loss:1.51727, Accuracy:0.94756\n",
      "Epoch: 4 / 10, Batch: 500/938,Loss:1.52244, Accuracy:0.94125\n",
      "Epoch: 4 / 10, Batch: 750/938,Loss:1.52082, Accuracy:0.94294\n",
      "Epoch: 5 / 10, Batch: 250/938,Loss:1.51323, Accuracy:0.95063\n",
      "Epoch: 5 / 10, Batch: 500/938,Loss:1.51317, Accuracy:0.95012\n",
      "Epoch: 5 / 10, Batch: 750/938,Loss:1.51484, Accuracy:0.94888\n",
      "Epoch: 6 / 10, Batch: 250/938,Loss:1.51044, Accuracy:0.95256\n",
      "Epoch: 6 / 10, Batch: 500/938,Loss:1.50922, Accuracy:0.95381\n",
      "Epoch: 6 / 10, Batch: 750/938,Loss:1.50764, Accuracy:0.95544\n",
      "Epoch: 7 / 10, Batch: 250/938,Loss:1.50705, Accuracy:0.95569\n",
      "Epoch: 7 / 10, Batch: 500/938,Loss:1.50677, Accuracy:0.95613\n",
      "Epoch: 7 / 10, Batch: 750/938,Loss:1.50671, Accuracy:0.95487\n",
      "Epoch: 8 / 10, Batch: 250/938,Loss:1.50404, Accuracy:0.95800\n",
      "Epoch: 8 / 10, Batch: 500/938,Loss:1.50494, Accuracy:0.95762\n",
      "Epoch: 8 / 10, Batch: 750/938,Loss:1.50331, Accuracy:0.95863\n",
      "Epoch: 9 / 10, Batch: 250/938,Loss:1.50477, Accuracy:0.95806\n",
      "Epoch: 9 / 10, Batch: 500/938,Loss:1.50076, Accuracy:0.96188\n",
      "Epoch: 9 / 10, Batch: 750/938,Loss:1.50218, Accuracy:0.95987\n",
      "Epoch: 10 / 10, Batch: 250/938,Loss:1.50269, Accuracy:0.95919\n",
      "Epoch: 10 / 10, Batch: 500/938,Loss:1.50191, Accuracy:0.96013\n",
      "Epoch: 10 / 10, Batch: 750/938,Loss:1.49986, Accuracy:0.96269\n"
     ]
    }
   ],
   "source": [
    "## YOUR CODE HERE ##\n",
    "# Training the model\n",
    "n_epochs = 10\n",
    "model.train()\n",
    "loss_values = []\n",
    "accuracy_values = []\n",
    "for epoch in range(n_epochs):\n",
    "    run_loss = 0\n",
    "    run_corrects = 0\n",
    "    \n",
    "    for batch_i, (images, labels) in enumerate(train_dataloader):\n",
    "        images, labels = images.to(device), labels.to(device)\n",
    "        \n",
    "        optimizer.zero_grad()\n",
    "        outputs = model(images)\n",
    "        _, preds = torch.max(outputs, 1)\n",
    "        loss = criterion(outputs, labels)\n",
    "        loss.backward()\n",
    "        optimizer.step()\n",
    "        \n",
    "        run_loss += loss.item()\n",
    "        run_corrects += torch.sum(preds == labels.data)\n",
    "        \n",
    "        # Print loss and accuracy for every 250 batchs \n",
    "        if batch_i % 250 == 249:\n",
    "            batch_loss = run_loss /250\n",
    "            batch_accuracy = run_corrects / (250 * train_dataloader.batch_size)\n",
    "            print(f\"Epoch: {epoch +1 } / {n_epochs}, Batch: {batch_i +1}/{len(train_dataloader)},Loss:{batch_loss:.5f}, Accuracy:{batch_accuracy:.5f}\")\n",
    "            loss_values.append(batch_loss)\n",
    "            accuracy_values.append(batch_accuracy)\n",
    "            run_loss = 0\n",
    "            run_corrects = 0"
   ]
  },
  {
   "cell_type": "markdown",
   "metadata": {},
   "source": [
    "Plot the training loss (and validation loss/accuracy, if recorded)."
   ]
  },
  {
   "cell_type": "code",
   "execution_count": 10,
   "metadata": {},
   "outputs": [
    {
     "data": {
      "image/png": "[encoded data removed]",
      "text/plain": [
       "<Figure size 720x360 with 1 Axes>"
      ]
     },
     "metadata": {
      "needs_background": "light"
     },
     "output_type": "display_data"
    },
    {
     "data": {
      "image/png": "[encoded data removed]",
      "text/plain": [
       "<Figure size 720x360 with 1 Axes>"
      ]
     },
     "metadata": {
      "needs_background": "light"
     },
     "output_type": "display_data"
    }
   ],
   "source": [
    "## YOUR CODE HERE ##\n",
    "#Plot the loss and accuracy\n",
    "\n",
    "plt.figure(figsize=(10,5))\n",
    "plt.subplot(1,1,1)\n",
    "plt.plot(loss_values)\n",
    "plt.xlabel('Batch')\n",
    "plt.ylabel('Loss')\n",
    "plt.title('Training Loss')\n",
    "\n",
    "plt.figure(figsize=(10,5))\n",
    "plt.subplot(1,2,2)\n",
    "plt.plot(accuracy_values)\n",
    "plt.xlabel('Batch')\n",
    "plt.ylabel('Accuracy')\n",
    "plt.title('Training Accuracy')\n",
    "plt.tight_layout()\n",
    "\n",
    "plt.show()"
   ]
  },
  {
   "cell_type": "markdown",
   "metadata": {},
   "source": [
    "## Testing your model\n",
    "Using the previously created `DataLoader` for the test set, compute the percentage of correct predictions using the highest probability prediction. \n",
    "\n",
    "If your accuracy is over 90%, great work, but see if you can push a bit further! \n",
    "If your accuracy is under 90%, you'll need to make improvements.\n",
    "Go back and check your model architecture, loss function, and optimizer to make sure they're appropriate for an image classification task."
   ]
  },
  {
   "cell_type": "code",
   "execution_count": 11,
   "metadata": {},
   "outputs": [
    {
     "name": "stdout",
     "output_type": "stream",
     "text": [
      "Test Accuracy:0.96700\n"
     ]
    }
   ],
   "source": [
    "## YOUR CODE HERE ##\n",
    "# Testing model accuracy \n",
    "model.eval()\n",
    "test_corrects = 0\n",
    "total_samples = 0\n",
    "\n",
    "for images, labels in test_dataloader:\n",
    "    images, labels = images.to(device), labels.to(device)\n",
    "    \n",
    "    outputs = model(images)\n",
    "    _, preds = torch.max(outputs, 1)\n",
    "    \n",
    "    test_corrects += torch.sum(preds == labels.data)\n",
    "    total_samples += len(labels)\n",
    "    \n",
    "test_accuracy = test_corrects / total_samples\n",
    "print(f\"Test Accuracy:{test_accuracy:.5f}\")"
   ]
  },
  {
   "cell_type": "markdown",
   "metadata": {},
   "source": [
    "## Improving your model\n",
    "\n",
    "Once your model is done training, try tweaking your hyperparameters and training again below to improve your accuracy on the test set!"
   ]
  },
  {
   "cell_type": "code",
   "execution_count": 7,
   "metadata": {},
   "outputs": [
    {
     "name": "stdout",
     "output_type": "stream",
     "text": [
      "Epoch: 1 / 30, Batch: 250/938,Loss:1.75527, Accuracy:0.73725\n",
      "Epoch: 1 / 30, Batch: 500/938,Loss:1.66001, Accuracy:0.80831\n",
      "Epoch: 1 / 30, Batch: 750/938,Loss:1.64774, Accuracy:0.82025\n",
      "Epoch: 2 / 30, Batch: 250/938,Loss:1.61162, Accuracy:0.85544\n",
      "Epoch: 2 / 30, Batch: 500/938,Loss:1.55197, Accuracy:0.91531\n",
      "Epoch: 2 / 30, Batch: 750/938,Loss:1.53860, Accuracy:0.92712\n",
      "Epoch: 3 / 30, Batch: 250/938,Loss:1.53141, Accuracy:0.93331\n",
      "Epoch: 3 / 30, Batch: 500/938,Loss:1.52604, Accuracy:0.93837\n",
      "Epoch: 3 / 30, Batch: 750/938,Loss:1.52191, Accuracy:0.94225\n",
      "Epoch: 4 / 30, Batch: 250/938,Loss:1.51753, Accuracy:0.94669\n",
      "Epoch: 4 / 30, Batch: 500/938,Loss:1.51594, Accuracy:0.94819\n",
      "Epoch: 4 / 30, Batch: 750/938,Loss:1.51182, Accuracy:0.95144\n",
      "Epoch: 5 / 30, Batch: 250/938,Loss:1.51074, Accuracy:0.95237\n",
      "Epoch: 5 / 30, Batch: 500/938,Loss:1.50930, Accuracy:0.95412\n",
      "Epoch: 5 / 30, Batch: 750/938,Loss:1.50697, Accuracy:0.95581\n",
      "Epoch: 6 / 30, Batch: 250/938,Loss:1.50330, Accuracy:0.96100\n",
      "Epoch: 6 / 30, Batch: 500/938,Loss:1.50577, Accuracy:0.95725\n",
      "Epoch: 6 / 30, Batch: 750/938,Loss:1.50506, Accuracy:0.95731\n",
      "Epoch: 7 / 30, Batch: 250/938,Loss:1.49900, Accuracy:0.96350\n",
      "Epoch: 7 / 30, Batch: 500/938,Loss:1.50190, Accuracy:0.96100\n",
      "Epoch: 7 / 30, Batch: 750/938,Loss:1.50181, Accuracy:0.96062\n",
      "Epoch: 8 / 30, Batch: 250/938,Loss:1.49860, Accuracy:0.96419\n",
      "Epoch: 8 / 30, Batch: 500/938,Loss:1.49550, Accuracy:0.96788\n",
      "Epoch: 8 / 30, Batch: 750/938,Loss:1.49775, Accuracy:0.96475\n",
      "Epoch: 9 / 30, Batch: 250/938,Loss:1.49867, Accuracy:0.96363\n",
      "Epoch: 9 / 30, Batch: 500/938,Loss:1.49495, Accuracy:0.96756\n",
      "Epoch: 9 / 30, Batch: 750/938,Loss:1.49759, Accuracy:0.96494\n",
      "Epoch: 10 / 30, Batch: 250/938,Loss:1.49583, Accuracy:0.96650\n",
      "Epoch: 10 / 30, Batch: 500/938,Loss:1.49536, Accuracy:0.96681\n",
      "Epoch: 10 / 30, Batch: 750/938,Loss:1.49611, Accuracy:0.96631\n",
      "Epoch: 11 / 30, Batch: 250/938,Loss:1.49155, Accuracy:0.97088\n",
      "Epoch: 11 / 30, Batch: 500/938,Loss:1.49305, Accuracy:0.96950\n",
      "Epoch: 11 / 30, Batch: 750/938,Loss:1.49416, Accuracy:0.96794\n",
      "Epoch: 12 / 30, Batch: 250/938,Loss:1.49162, Accuracy:0.97056\n",
      "Epoch: 12 / 30, Batch: 500/938,Loss:1.49356, Accuracy:0.96788\n",
      "Epoch: 12 / 30, Batch: 750/938,Loss:1.49060, Accuracy:0.97131\n",
      "Epoch: 13 / 30, Batch: 250/938,Loss:1.49134, Accuracy:0.97081\n",
      "Epoch: 13 / 30, Batch: 500/938,Loss:1.49127, Accuracy:0.97031\n",
      "Epoch: 13 / 30, Batch: 750/938,Loss:1.49170, Accuracy:0.97006\n",
      "Epoch: 14 / 30, Batch: 250/938,Loss:1.48885, Accuracy:0.97344\n",
      "Epoch: 14 / 30, Batch: 500/938,Loss:1.49160, Accuracy:0.97006\n",
      "Epoch: 14 / 30, Batch: 750/938,Loss:1.48861, Accuracy:0.97363\n",
      "Epoch: 15 / 30, Batch: 250/938,Loss:1.49151, Accuracy:0.97050\n",
      "Epoch: 15 / 30, Batch: 500/938,Loss:1.49133, Accuracy:0.97038\n",
      "Epoch: 15 / 30, Batch: 750/938,Loss:1.48836, Accuracy:0.97319\n",
      "Epoch: 16 / 30, Batch: 250/938,Loss:1.48952, Accuracy:0.97188\n",
      "Epoch: 16 / 30, Batch: 500/938,Loss:1.48867, Accuracy:0.97319\n",
      "Epoch: 16 / 30, Batch: 750/938,Loss:1.48792, Accuracy:0.97369\n",
      "Epoch: 17 / 30, Batch: 250/938,Loss:1.48606, Accuracy:0.97600\n",
      "Epoch: 17 / 30, Batch: 500/938,Loss:1.48854, Accuracy:0.97312\n",
      "Epoch: 17 / 30, Batch: 750/938,Loss:1.48823, Accuracy:0.97331\n",
      "Epoch: 18 / 30, Batch: 250/938,Loss:1.48839, Accuracy:0.97344\n",
      "Epoch: 18 / 30, Batch: 500/938,Loss:1.48958, Accuracy:0.97206\n",
      "Epoch: 18 / 30, Batch: 750/938,Loss:1.48726, Accuracy:0.97425\n",
      "Epoch: 19 / 30, Batch: 250/938,Loss:1.48590, Accuracy:0.97575\n",
      "Epoch: 19 / 30, Batch: 500/938,Loss:1.48572, Accuracy:0.97581\n",
      "Epoch: 19 / 30, Batch: 750/938,Loss:1.48760, Accuracy:0.97450\n",
      "Epoch: 20 / 30, Batch: 250/938,Loss:1.48632, Accuracy:0.97525\n",
      "Epoch: 20 / 30, Batch: 500/938,Loss:1.48279, Accuracy:0.97881\n",
      "Epoch: 20 / 30, Batch: 750/938,Loss:1.48700, Accuracy:0.97462\n",
      "Epoch: 21 / 30, Batch: 250/938,Loss:1.48571, Accuracy:0.97606\n",
      "Epoch: 21 / 30, Batch: 500/938,Loss:1.48864, Accuracy:0.97256\n",
      "Epoch: 21 / 30, Batch: 750/938,Loss:1.48730, Accuracy:0.97400\n",
      "Epoch: 22 / 30, Batch: 250/938,Loss:1.48670, Accuracy:0.97494\n",
      "Epoch: 22 / 30, Batch: 500/938,Loss:1.48647, Accuracy:0.97450\n",
      "Epoch: 22 / 30, Batch: 750/938,Loss:1.48416, Accuracy:0.97744\n",
      "Epoch: 23 / 30, Batch: 250/938,Loss:1.48505, Accuracy:0.97637\n",
      "Epoch: 23 / 30, Batch: 500/938,Loss:1.48456, Accuracy:0.97712\n",
      "Epoch: 23 / 30, Batch: 750/938,Loss:1.48609, Accuracy:0.97500\n",
      "Epoch: 24 / 30, Batch: 250/938,Loss:1.48328, Accuracy:0.97819\n",
      "Epoch: 24 / 30, Batch: 500/938,Loss:1.48464, Accuracy:0.97663\n",
      "Epoch: 24 / 30, Batch: 750/938,Loss:1.48681, Accuracy:0.97487\n",
      "Epoch: 25 / 30, Batch: 250/938,Loss:1.48531, Accuracy:0.97581\n",
      "Epoch: 25 / 30, Batch: 500/938,Loss:1.48414, Accuracy:0.97769\n",
      "Epoch: 25 / 30, Batch: 750/938,Loss:1.48436, Accuracy:0.97694\n",
      "Epoch: 26 / 30, Batch: 250/938,Loss:1.48372, Accuracy:0.97775\n",
      "Epoch: 26 / 30, Batch: 500/938,Loss:1.48312, Accuracy:0.97875\n",
      "Epoch: 26 / 30, Batch: 750/938,Loss:1.48453, Accuracy:0.97694\n",
      "Epoch: 27 / 30, Batch: 250/938,Loss:1.48318, Accuracy:0.97869\n",
      "Epoch: 27 / 30, Batch: 500/938,Loss:1.48524, Accuracy:0.97631\n",
      "Epoch: 27 / 30, Batch: 750/938,Loss:1.48509, Accuracy:0.97669\n",
      "Epoch: 28 / 30, Batch: 250/938,Loss:1.48551, Accuracy:0.97556\n",
      "Epoch: 28 / 30, Batch: 500/938,Loss:1.48319, Accuracy:0.97806\n",
      "Epoch: 28 / 30, Batch: 750/938,Loss:1.48201, Accuracy:0.97931\n",
      "Epoch: 29 / 30, Batch: 250/938,Loss:1.48290, Accuracy:0.97869\n",
      "Epoch: 29 / 30, Batch: 500/938,Loss:1.48354, Accuracy:0.97794\n",
      "Epoch: 29 / 30, Batch: 750/938,Loss:1.48677, Accuracy:0.97475\n",
      "Epoch: 30 / 30, Batch: 250/938,Loss:1.48107, Accuracy:0.98025\n",
      "Epoch: 30 / 30, Batch: 500/938,Loss:1.48300, Accuracy:0.97850\n",
      "Epoch: 30 / 30, Batch: 750/938,Loss:1.48389, Accuracy:0.97763\n",
      "Test Accuracy:0.97180\n"
     ]
    }
   ],
   "source": [
    "## YOUR CODE HERE ##\n",
    "# Changing two hyperparameters, dropout value and epoch can increase the accuracy \n",
    "## YOUR CODE HERE ##\n",
    "class NeuralNetwork(nn.Module):\n",
    "    def __init__(self):\n",
    "        super(NeuralNetwork, self).__init__()\n",
    "        self.flatten = nn.Flatten()\n",
    "        self.fc1 = nn.Linear(784, 256)\n",
    "        self.fc2 = nn.Linear(256, 10)\n",
    "        self.dropout = nn.Dropout(0.1)\n",
    "        self.activation = F.relu\n",
    "    #Define the feed forward neural network architecture \n",
    "    def forward(self, x):\n",
    "        x = self.flatten(x)\n",
    "        x = self.activation(self.fc1(x))\n",
    "        x = self.dropout(x)\n",
    "        x = self.fc2(x)\n",
    "        x = F.softmax(x, dim = 1)\n",
    "        return x\n",
    "\n",
    "# Define device usage \n",
    "device = torch.device(\"cuda\" if torch.cuda.is_available() else \"cpu\")\n",
    "# create instance of the new neural network model\n",
    "model = NeuralNetwork().to(device)\n",
    "\n",
    "## YOUR CODE HERE ##\n",
    "# Before training the model first we should define loss function and optmizer \n",
    "criterion = nn.CrossEntropyLoss()\n",
    "optimizer = optim.Adam(model.parameters(), lr = 0.001)\n",
    "\n",
    "\n",
    "## YOUR CODE HERE ##\n",
    "# Training the model\n",
    "n_epochs = 30\n",
    "model.train()\n",
    "loss_values = []\n",
    "accuracy_values = []\n",
    "for epoch in range(n_epochs):\n",
    "    run_loss = 0\n",
    "    run_corrects = 0\n",
    "    \n",
    "    for batch_i, (images, labels) in enumerate(train_dataloader):\n",
    "        images, labels = images.to(device), labels.to(device)\n",
    "        \n",
    "        optimizer.zero_grad()\n",
    "        outputs = model(images)\n",
    "        _, preds = torch.max(outputs, 1)\n",
    "        loss = criterion(outputs, labels)\n",
    "        loss.backward()\n",
    "        optimizer.step()\n",
    "        \n",
    "        run_loss += loss.item()\n",
    "        run_corrects += torch.sum(preds == labels.data)\n",
    "        \n",
    "        # Print loss and accuracy for every 250 batchs \n",
    "        if batch_i % 250 == 249:\n",
    "            batch_loss = run_loss /250\n",
    "            batch_accuracy = run_corrects / (250 * train_dataloader.batch_size)\n",
    "            print(f\"Epoch: {epoch +1 } / {n_epochs}, Batch: {batch_i +1}/{len(train_dataloader)},Loss:{batch_loss:.5f}, Accuracy:{batch_accuracy:.5f}\")\n",
    "            loss_values.append(batch_loss)\n",
    "            accuracy_values.append(batch_accuracy)\n",
    "            run_loss = 0\n",
    "            run_corrects = 0\n",
    "            \n",
    "# Testing model accuracy \n",
    "model.eval()\n",
    "test_corrects = 0\n",
    "total_samples = 0\n",
    "\n",
    "for images, labels in test_dataloader:\n",
    "    images, labels = images.to(device), labels.to(device)\n",
    "    \n",
    "    outputs = model(images)\n",
    "    _, preds = torch.max(outputs, 1)\n",
    "    \n",
    "    test_corrects += torch.sum(preds == labels.data)\n",
    "    total_samples += len(labels)\n",
    "    \n",
    "test_accuracy = test_corrects / total_samples\n",
    "print(f\"Test Accuracy:{test_accuracy:.5f}\")"
   ]
  },
  {
   "cell_type": "markdown",
   "metadata": {},
   "source": [
    "After I simply  changed the number of epochs from 10 to 30 and decrease the dropout value from 0.2 to 0.1 the test accuracy increase from 96.7% to 97.18%."
   ]
  },
  {
   "cell_type": "markdown",
   "metadata": {},
   "source": [
    "## Saving your model\n",
    "Using `torch.save`, save your model for future loading."
   ]
  },
  {
   "cell_type": "code",
   "execution_count": 8,
   "metadata": {},
   "outputs": [],
   "source": [
    "## YOUR CODE HERE ##\n",
    "torch.save(model,'final_mnist_model')"
   ]
  },
  {
   "cell_type": "code",
   "execution_count": null,
   "metadata": {},
   "outputs": [],
   "source": []
  }
 ],
 "metadata": {
  "kernelspec": {
   "display_name": "Python 3",
   "language": "python",
   "name": "python3"
  },
  "language_info": {
   "codemirror_mode": {
    "name": "ipython",
    "version": 3
   },
   "file_extension": ".py",
   "mimetype": "text/x-python",
   "name": "python",
   "nbconvert_exporter": "python",
   "pygments_lexer": "ipython3",
   "version": "3.7.6"
  }
 },
 "nbformat": 4,
 "nbformat_minor": 4
}
